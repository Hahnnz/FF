{
 "cells": [
  {
   "cell_type": "code",
   "execution_count": 1,
   "metadata": {},
   "outputs": [],
   "source": [
    "import os,glob\n",
    "import numpy as np\n",
    "import cv2\n",
    "from copy import copy\n",
    "import matplotlib.pyplot as plt\n",
    "%matplotlib inline"
   ]
  },
  {
   "cell_type": "code",
   "execution_count": 2,
   "metadata": {},
   "outputs": [],
   "source": [
    "def explore_dir(dir,count=0,f_extensions=None):\n",
    "    if count==0:\n",
    "        global n_dir, n_file, filenames, filelocations\n",
    "        n_dir=n_file=0\n",
    "        filenames=list()\n",
    "        filelocations=list()\n",
    "\n",
    "    for img_path in sorted(glob.glob(os.path.join(dir,'*' if f_extensions is None else '*.'+f_extensions))):\n",
    "        if os.path.isdir(img_path):\n",
    "            n_dir +=1\n",
    "            explore_dir(img_path,count+1)\n",
    "        elif os.path.isfile(img_path):\n",
    "            n_file += 1\n",
    "            filelocations.append(img_path)\n",
    "            filenames.append(img_path.split(\"/\")[-1])\n",
    "    return np.array((filenames,filelocations))\n"
   ]
  },
  {
   "cell_type": "code",
   "execution_count": 3,
   "metadata": {},
   "outputs": [],
   "source": [
    "tr_img_path = explore_dir('./fruits-360/Training/')"
   ]
  },
  {
   "cell_type": "code",
   "execution_count": 4,
   "metadata": {},
   "outputs": [
    {
     "data": {
      "text/plain": [
       "array([['0_100.jpg', '100_100.jpg', '101_100.jpg', ..., 'r_97_100.jpg',\n",
       "        'r_98_100.jpg', 'r_99_100.jpg'],\n",
       "       ['./fruits-360/Training/Apple Braeburn/0_100.jpg',\n",
       "        './fruits-360/Training/Apple Braeburn/100_100.jpg',\n",
       "        './fruits-360/Training/Apple Braeburn/101_100.jpg', ...,\n",
       "        './fruits-360/Training/Walnut/r_97_100.jpg',\n",
       "        './fruits-360/Training/Walnut/r_98_100.jpg',\n",
       "        './fruits-360/Training/Walnut/r_99_100.jpg']], dtype='<U55')"
      ]
     },
     "execution_count": 4,
     "metadata": {},
     "output_type": "execute_result"
    }
   ],
   "source": [
    "tr_img_path"
   ]
  },
  {
   "cell_type": "code",
   "execution_count": 5,
   "metadata": {},
   "outputs": [],
   "source": [
    "te_img_path = explore_dir('./fruits-360/Test/')"
   ]
  },
  {
   "cell_type": "code",
   "execution_count": 6,
   "metadata": {},
   "outputs": [
    {
     "data": {
      "text/plain": [
       "array([['321_100.jpg', '322_100.jpg', '323_100.jpg', ..., 'r_7_100.jpg',\n",
       "        'r_8_100.jpg', 'r_9_100.jpg'],\n",
       "       ['./fruits-360/Test/Apple Braeburn/321_100.jpg',\n",
       "        './fruits-360/Test/Apple Braeburn/322_100.jpg',\n",
       "        './fruits-360/Test/Apple Braeburn/323_100.jpg', ...,\n",
       "        './fruits-360/Test/Walnut/r_7_100.jpg',\n",
       "        './fruits-360/Test/Walnut/r_8_100.jpg',\n",
       "        './fruits-360/Test/Walnut/r_9_100.jpg']], dtype='<U51')"
      ]
     },
     "execution_count": 6,
     "metadata": {},
     "output_type": "execute_result"
    }
   ],
   "source": [
    "te_img_path"
   ]
  },
  {
   "cell_type": "code",
   "execution_count": 7,
   "metadata": {},
   "outputs": [],
   "source": [
    "tr_img=list(tr_img_path[1])\n",
    "te_img=list(te_img_path[1])"
   ]
  },
  {
   "cell_type": "code",
   "execution_count": 8,
   "metadata": {},
   "outputs": [],
   "source": [
    "tr_img_list = list()\n",
    "te_img_list = list()\n",
    "\n",
    "for i in range(len(tr_img)):\n",
    "    tr_img_list.append(cv2.imread(tr_img[i]))\n",
    "for i in range(len(te_img)):\n",
    "    te_img_list.append(cv2.imread(te_img[i]))"
   ]
  },
  {
   "cell_type": "code",
   "execution_count": 9,
   "metadata": {},
   "outputs": [],
   "source": [
    "tr_imgset = np.array(tr_img_list)\n",
    "te_imgset = np.array(te_img_list)"
   ]
  },
  {
   "cell_type": "code",
   "execution_count": 10,
   "metadata": {},
   "outputs": [],
   "source": [
    "tr_class = list()\n",
    "tr_label = list()\n",
    "te_class = list()\n",
    "te_label = list()\n",
    "\n",
    "for i in range(len(tr_img)): \n",
    "    tr_class.append(tr_img_path[1,i].split('/')[-2])\n",
    "    tr_label.append((list(tr_class)).index(tr_img_path[1,i].split('/')[-2]))\n",
    "for i in range(len(te_img)):\n",
    "    te_class.append(te_img_path[1,i].split('/')[-2])\n",
    "    te_label.append((list(te_class)).index(te_img_path[1,i].split('/')[-2]))"
   ]
  },
  {
   "cell_type": "code",
   "execution_count": 11,
   "metadata": {},
   "outputs": [],
   "source": [
    "# data shuffling\n",
    "tr_img = copy(tr_imgset)\n",
    "label = np.array(copy(tr_label))\n",
    "\n",
    "idx = np.random.permutation(len(tr_img))\n",
    "tr_img = tr_img[idx]\n",
    "label = label[idx]"
   ]
  },
  {
   "cell_type": "code",
   "execution_count": 12,
   "metadata": {
    "scrolled": true
   },
   "outputs": [
    {
     "name": "stdout",
     "output_type": "stream",
     "text": [
      "Peach Flat\n"
     ]
    },
    {
     "data": {
      "text/plain": [
       "<matplotlib.image.AxesImage at 0x7f722f3d5b38>"
      ]
     },
     "execution_count": 12,
     "metadata": {},
     "output_type": "execute_result"
    },
    {
     "data": {
      "image/png": "[encoded data removed]",
      "text/plain": [
       "<Figure size 432x288 with 1 Axes>"
      ]
     },
     "metadata": {},
     "output_type": "display_data"
    }
   ],
   "source": [
    "# for test \n",
    "idx=900\n",
    "print(tr_class[label[idx]])\n",
    "plt.imshow(tr_img[idx])"
   ]
  },
  {
   "cell_type": "code",
   "execution_count": null,
   "metadata": {},
   "outputs": [],
   "source": []
  }
 ],
 "metadata": {
  "kernelspec": {
   "display_name": "Python 3",
   "language": "python",
   "name": "python3"
  },
  "language_info": {
   "codemirror_mode": {
    "name": "ipython",
    "version": 3
   },
   "file_extension": ".py",
   "mimetype": "text/x-python",
   "name": "python",
   "nbconvert_exporter": "python",
   "pygments_lexer": "ipython3",
   "version": "3.5.2"
  }
 },
 "nbformat": 4,
 "nbformat_minor": 2
}
