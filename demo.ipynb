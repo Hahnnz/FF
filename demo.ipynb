{
 "cells": [
  {
   "cell_type": "code",
   "execution_count": 1,
   "metadata": {},
   "outputs": [],
   "source": [
    "import os,glob\n",
    "import numpy as np\n",
    "import cv2\n",
    "import alexnet\n",
    "import tensorflow as tf\n",
    "import matplotlib.pyplot as plt\n",
    "%matplotlib inline"
   ]
  },
  {
   "cell_type": "code",
   "execution_count": 2,
   "metadata": {},
   "outputs": [],
   "source": [
    "def explore_dir(dir,count=0,f_extensions=None):\n",
    "    if count==0:\n",
    "        global n_dir, n_file, filenames, filelocations\n",
    "        n_dir=n_file=0\n",
    "        filenames=list()\n",
    "        filelocations=list()\n",
    "\n",
    "    for img_path in sorted(glob.glob(os.path.join(dir,'*' if f_extensions is None else '*.'+f_extensions))):\n",
    "        if os.path.isdir(img_path):\n",
    "            n_dir +=1\n",
    "            explore_dir(img_path,count+1)\n",
    "        elif os.path.isfile(img_path):\n",
    "            n_file += 1\n",
    "            filelocations.append(img_path)\n",
    "            filenames.append(img_path.split(\"/\")[-1])\n",
    "    return np.array((filenames,filelocations))"
   ]
  },
  {
   "cell_type": "code",
   "execution_count": 3,
   "metadata": {},
   "outputs": [],
   "source": [
    "tr_img_path = explore_dir('./fruits-360/Training/')[1]\n",
    "te_img_path = explore_dir('./fruits-360/Test/')[1]\n",
    "\n",
    "classes = list(set(path.split(\"/\")[-2] for path in tr_img_path))\n",
    "\n",
    "tr_imgset = np.array(list(map(cv2.imread,tr_img_path)))\n",
    "te_imgset = np.array(list(map(cv2.imread,te_img_path)))"
   ]
  },
  {
   "cell_type": "code",
   "execution_count": 4,
   "metadata": {},
   "outputs": [],
   "source": [
    "tr_label = list()\n",
    "te_label = list()\n",
    "\n",
    "for i in range(len(tr_img_path)): \n",
    "    tr_label.append((list(classes)).index(tr_img_path[i].split('/')[-2]))\n",
    "    \n",
    "for i in range(len(te_img_path)):\n",
    "    te_label.append((list(classes)).index(te_img_path[i].split('/')[-2]))"
   ]
  },
  {
   "cell_type": "code",
   "execution_count": 5,
   "metadata": {},
   "outputs": [],
   "source": [
    "# data shuffling\n",
    "tr_img = tr_imgset.copy()\n",
    "label = np.array(tr_label).copy()\n",
    "\n",
    "idx = np.random.permutation(len(tr_img))\n",
    "tr_img = tr_img[idx]\n",
    "label = label[idx]"
   ]
  },
  {
   "cell_type": "code",
   "execution_count": 6,
   "metadata": {},
   "outputs": [],
   "source": [
    "re_tr_img = np.array(list((lambda x : cv2.resize(x,(227,227)))(img) for img in tr_img))\n",
    "re_te_img = np.array(list((lambda x : cv2.resize(x,(227,227)))(img) for img in te_imgset))"
   ]
  },
  {
   "cell_type": "code",
   "execution_count": 7,
   "metadata": {
    "scrolled": true
   },
   "outputs": [
    {
     "name": "stdout",
     "output_type": "stream",
     "text": [
      "Carambula\n"
     ]
    },
    {
     "data": {
      "text/plain": [
       "<matplotlib.image.AxesImage at 0x7fbdf6beacc0>"
      ]
     },
     "execution_count": 7,
     "metadata": {},
     "output_type": "execute_result"
    },
    {
     "data": {
      "image/png": "[encoded data removed]",
      "text/plain": [
       "<Figure size 432x288 with 1 Axes>"
      ]
     },
     "metadata": {},
     "output_type": "display_data"
    }
   ],
   "source": [
    "# for test \n",
    "idx=900\n",
    "print(classes[label[idx]])\n",
    "plt.imshow(tr_img[idx])"
   ]
  },
  {
   "cell_type": "markdown",
   "metadata": {},
   "source": [
    "## Training"
   ]
  },
  {
   "cell_type": "code",
   "execution_count": 8,
   "metadata": {},
   "outputs": [],
   "source": [
    "# gpu setting\n",
    "os.environ[\"CUDA_DEVICE_ORDER\"]=\"PCI_BUS_ID\"\n",
    "os.environ[\"CUDA_VISIBLE_DEVICES\"]=\"0\"\n",
    "\n",
    "batch_size = 500\n",
    "iter_num = 10000\n",
    "snapshot_step = 100\n",
    "lowest_loss=None"
   ]
  },
  {
   "cell_type": "code",
   "execution_count": 9,
   "metadata": {},
   "outputs": [],
   "source": [
    "tf.reset_default_graph()"
   ]
  },
  {
   "cell_type": "code",
   "execution_count": 10,
   "metadata": {},
   "outputs": [],
   "source": [
    "# load net\n",
    "net = alexnet.alexnet(input_shape=(227,227,3),output_shape=(75,)) \n",
    "\n",
    "with net.graph.as_default():\n",
    "    saver = tf.train.Saver()\n",
    "    \n",
    "    summary_writer = tf.summary.FileWriter(\"./snapshot/gpu/\", net.sess.graph)\n",
    "    summary_op = tf.summary.merge_all()"
   ]
  },
  {
   "cell_type": "code",
   "execution_count": 11,
   "metadata": {},
   "outputs": [],
   "source": [
    "def separate_batches(img,label):\n",
    "    img_batches = list()\n",
    "    label_batches = list()\n",
    "        \n",
    "    if(len(img)%batch_size==0):\n",
    "        num_batches = len(img)//batch_size\n",
    "        for nb in range(num_batches):\n",
    "            img_batches.append(img[batch_size*nb:batch_size*(nb+1)])\n",
    "            label_batches.append(label[batch_size*nb:batch_size*(nb+1)])\n",
    "    else:\n",
    "        num_batches = (len(img)//batch_size)+1\n",
    "        for nb in range(num_batches):\n",
    "            img_batches.append(img[batch_size*nb:batch_size*(nb+1)])\n",
    "            label_batches.append(label[batch_size*nb:batch_size*(nb+1)])\n",
    "            if(nb==num_batches-1):\n",
    "                img_batches.append(img[batch_size*nb:])\n",
    "                label_batches.append(label[batch_size*nb:])\n",
    "                \n",
    "    return img_batches,label_batches"
   ]
  },
  {
   "cell_type": "code",
   "execution_count": 12,
   "metadata": {},
   "outputs": [],
   "source": [
    "def one_hot_encoding(labels,depth):\n",
    "    return np.eye(depth)[labels].reshape(len(labels),depth)"
   ]
  },
  {
   "cell_type": "code",
   "execution_count": 13,
   "metadata": {},
   "outputs": [
    {
     "name": "stdout",
     "output_type": "stream",
     "text": [
      "WARNING:tensorflow:From <ipython-input-13-e06881594cdf>:1: softmax_cross_entropy_with_logits (from tensorflow.python.ops.nn_ops) is deprecated and will be removed in a future version.\n",
      "Instructions for updating:\n",
      "\n",
      "Future major versions of TensorFlow will allow gradients to flow\n",
      "into the labels input on backprop by default.\n",
      "\n",
      "See @{tf.nn.softmax_cross_entropy_with_logits_v2}.\n",
      "\n"
     ]
    }
   ],
   "source": [
    "cost = tf.reduce_mean(tf.nn.softmax_cross_entropy_with_logits(logits=net.fc8, labels=net.y_gt))\n",
    "optimizer = tf.train.AdadeltaOptimizer(learning_rate=1,rho=0.95,epsilon=1e-09).minimize(cost)"
   ]
  },
  {
   "cell_type": "code",
   "execution_count": 14,
   "metadata": {},
   "outputs": [],
   "source": [
    "prediction = tf.argmax(net.fc8,1)\n",
    "target = tf.argmax(net.y_gt,1)\n",
    "\n",
    "correct = tf.equal(prediction,target)\n",
    "accuracy = tf.reduce_mean(tf.cast(correct,tf.float32))"
   ]
  },
  {
   "cell_type": "code",
   "execution_count": null,
   "metadata": {},
   "outputs": [
    {
     "name": "stdout",
     "output_type": "stream",
     "text": [
      "0.021695175251041195 5.593160905336079\n",
      "0.016578947478831794 4.343183417069285\n",
      "0.014078947614363738 4.319303575314973\n"
     ]
    }
   ],
   "source": [
    "net.sess.run(tf.global_variables_initializer())\n",
    "\n",
    "with tf.device(\"/gpu:0\"):\n",
    "    for step in range(iter_num):\n",
    "        tr_cost = 0.\n",
    "        tr_acc = 0.\n",
    "        tr_cnt = 0\n",
    "        \n",
    "        for n in range(tr_num_batches):\n",
    "            acc, loss, _ = net.sess.run(\n",
    "                [accuracy,cost,optimizer],\n",
    "                feed_dict = {net.x: tr_img_batches[n],\n",
    "                            net.y_gt : one_hot_encoding(tr_label_batches[n],75),\n",
    "                            net.keep_prob:0.7})\n",
    "            \n",
    "            tr_cost+=loss\n",
    "            tr_acc+=acc\n",
    "            tr_cnt+=1\n",
    "        \n",
    "        print(tr_acc/tr_cnt,tr_cost/tr_cnt)"
   ]
  },
  {
   "cell_type": "code",
   "execution_count": null,
   "metadata": {},
   "outputs": [],
   "source": []
  },
  {
   "cell_type": "code",
   "execution_count": null,
   "metadata": {},
   "outputs": [],
   "source": []
  },
  {
   "cell_type": "code",
   "execution_count": null,
   "metadata": {},
   "outputs": [],
   "source": []
  }
 ],
 "metadata": {
  "kernelspec": {
   "display_name": "Python 3",
   "language": "python",
   "name": "python3"
  },
  "language_info": {
   "codemirror_mode": {
    "name": "ipython",
    "version": 3
   },
   "file_extension": ".py",
   "mimetype": "text/x-python",
   "name": "python",
   "nbconvert_exporter": "python",
   "pygments_lexer": "ipython3",
   "version": "3.5.2"
  }
 },
 "nbformat": 4,
 "nbformat_minor": 2
}
